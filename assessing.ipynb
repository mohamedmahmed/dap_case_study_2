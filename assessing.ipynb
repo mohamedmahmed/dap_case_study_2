{
 "cells": [
  {
   "cell_type": "markdown",
   "metadata": {
    "collapsed": true
   },
   "source": [
    "# Assessing\n",
    "Use the space below to explore `all_alpha_08.csv` and `all_alpha_18.csv` to answer the quiz questions below."
   ]
  },
  {
   "cell_type": "code",
   "execution_count": 2,
   "metadata": {},
   "outputs": [],
   "source": [
    "import pandas as pd\n",
    "\n",
    "df_08 = pd.read_csv('all_alpha_08.csv')\n",
    "df_18 = pd.read_csv('all_alpha_18.csv')"
   ]
  },
  {
   "cell_type": "code",
   "execution_count": null,
   "metadata": {},
   "outputs": [],
   "source": [
    "df_08.info()\n",
    "df_08.duplicated().sum()\n",
    "df_08.isnull().sum()\n",
    "print('City MPG 08 Type is {}'.format(type(df_08['City MPG'][0])))\n",
    "print('Cyl 08 Type is {}'.format(type(df_08['Cyl'][0])))\n",
    "print('Greenhouse Gas Score 08 Type is {}'.format(type(df_08['Greenhouse Gas Score'][0])))\n",
    "print(df_08['SmartWay'].nunique())\n",
    "print('Sales Area 08 unique {}'.format(df_08['Sales Area'].nunique()))\n",
    "print('Trans 08 unique {}'.format(df_08['Trans'].nunique()))\n",
    "print('Gasoline in Fuel Categories of 2008 {}'.format('Gasoline' in df_08['Fuel']))\n",
    "print('Ethanol/Gas in Fuel Categories of 2008 {}'.format('Ethanol/Gas' in df_08))\n"
   ]
  },
  {
   "cell_type": "code",
   "execution_count": 29,
   "metadata": {},
   "outputs": [
    {
     "name": "stdout",
     "output_type": "stream",
     "text": [
      "<class 'pandas.core.frame.DataFrame'>\n",
      "RangeIndex: 1611 entries, 0 to 1610\n",
      "Data columns (total 18 columns):\n",
      "Model                   1611 non-null object\n",
      "Displ                   1609 non-null float64\n",
      "Cyl                     1609 non-null float64\n",
      "Trans                   1611 non-null object\n",
      "Drive                   1611 non-null object\n",
      "Fuel                    1611 non-null object\n",
      "Cert Region             1611 non-null object\n",
      "Stnd                    1611 non-null object\n",
      "Stnd Description        1611 non-null object\n",
      "Underhood ID            1611 non-null object\n",
      "Veh Class               1611 non-null object\n",
      "Air Pollution Score     1611 non-null int64\n",
      "City MPG                1611 non-null object\n",
      "Hwy MPG                 1611 non-null object\n",
      "Cmb MPG                 1611 non-null object\n",
      "Greenhouse Gas Score    1611 non-null int64\n",
      "SmartWay                1611 non-null object\n",
      "Comb CO2                1611 non-null object\n",
      "dtypes: float64(2), int64(2), object(14)\n",
      "memory usage: 226.6+ KB\n",
      "City MPG 18 Type is <class 'str'>\n",
      "Cyl 18 Type is <class 'numpy.float64'>\n",
      "3\n",
      "Cert Region 18 unique 2\n",
      "Gasoline in Fuel Categories of 2018 False\n",
      "Ethanol/Gas in Fuel Categories of 2018 False\n"
     ]
    }
   ],
   "source": [
    "df_18.info()\n",
    "df_18.duplicated().sum()\n",
    "df_18.isnull().sum()\n",
    "print('City MPG 18 Type is {}'.format(type(df_18['City MPG'][0])))\n",
    "print('Cyl 18 Type is {}'.format(type(df_18['Cyl'][0])))\n",
    "print(df_18['SmartWay'].nunique())\n",
    "print('Cert Region 18 unique {}'.format(df_18['Cert Region'].nunique()))\n",
    "print('Gasoline in Fuel Categories of 2018 {}'.format('Gasoline' in df_18['Fuel']))\n",
    "print('Ethanol/Gas in Fuel Categories of 2018 {}'.format('Ethanol/Gas' in df_18['Fuel']))"
   ]
  },
  {
   "cell_type": "code",
   "execution_count": null,
   "metadata": {},
   "outputs": [],
   "source": []
  }
 ],
 "metadata": {
  "kernelspec": {
   "display_name": "Python 3",
   "language": "python",
   "name": "python3"
  },
  "language_info": {
   "codemirror_mode": {
    "name": "ipython",
    "version": 3
   },
   "file_extension": ".py",
   "mimetype": "text/x-python",
   "name": "python",
   "nbconvert_exporter": "python",
   "pygments_lexer": "ipython3",
   "version": "3.6.3"
  }
 },
 "nbformat": 4,
 "nbformat_minor": 2
}
